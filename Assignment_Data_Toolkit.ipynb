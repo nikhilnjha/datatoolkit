{
  "nbformat": 4,
  "nbformat_minor": 0,
  "metadata": {
    "colab": {
      "provenance": []
    },
    "kernelspec": {
      "name": "python3",
      "display_name": "Python 3"
    },
    "language_info": {
      "name": "python"
    }
  },
  "cells": [
    {
      "cell_type": "markdown",
      "source": [
        "# Theory"
      ],
      "metadata": {
        "id": "3jMjOZH2G02u"
      }
    },
    {
      "cell_type": "markdown",
      "source": [
        "1. What is NumPy, and why is it widely used in Python?\n",
        "\n",
        "  - NumPy (Numerical Python) is a fundamental library for numerical computations in Python. At its core is the ndarray, a powerful data structure for efficiently storing and manipulating homogeneous multi-dimensional arrays.\n",
        "\n",
        "  - It's widely used because:\n",
        "\n",
        "    - Efficiency: NumPy arrays are implemented in C, making numerical operations significantly faster than standard Python lists, especially for large datasets.\n",
        "    - Powerful Functionality: It provides a vast collection of highly optimized functions for mathematical operations, linear algebra, Fourier analysis, random number generation, and more.\n",
        "    - Memory Efficiency: Since Numpy arrays are homogenous in nature, they generally consume less memory compared to Python lists for storing large numerical datasets.\n",
        "\n",
        "\\\n",
        "\n",
        "2. How does broadcasting work in NumPy?\n",
        "\n",
        "  - Broadcasting is a mechanism in NumPy that allows you to perform arithmetic operations on arrays with different shapes.\n",
        "  - NumPy automatically \"stretches\" or \"broadcasts\" the smaller array across the dimensions of the larger array so that they have compatible shapes for element-wise operations.\n",
        "  - If the arrays have a different number of dimensions, the shape of the one with fewer dimensions is padded with ones on its leading (left) side.\n",
        "\n",
        "\\\n",
        "\n",
        "3. What is a Pandas DataFrame?\n",
        "\n",
        "  - A Pandas DataFrame is a two-dimensional labeled data structure with columns of potentially different types.\n",
        "  - It's one of the most fundamental and widely used data structures in Pandas for data analysis.\n",
        "\n",
        "\\\n",
        "\n",
        "4. Explain the use of the groupby() method in Pandas.\n",
        "\n",
        "  - The groupby() method in Pandas is used to group rows in a DataFrame based on the values of one or more columns.\n",
        "  - It allows splitting of the DataFrame into groups, apply a function to each group independently, and then combine the results back into a single DataFrame or Series.\n",
        "\n",
        "  - Example: Finding the average score per group:\n",
        "\n",
        "          import pandas as pd\n",
        "\n",
        "          data = {'group': ['A', 'A', 'B', 'B', 'A', 'B'],\n",
        "                  'score': [10, 15, 20, 25, 12, 18]}\n",
        "          df = pd.DataFrame(data)\n",
        "\n",
        "          grouped = df.groupby('group')\n",
        "          average_score = grouped['score'].mean()\n",
        "          print(average_score)\n",
        "\n",
        "\\\n",
        "\n",
        "5. Why is Seaborn preferred for statistical visualizations?\n",
        "\n",
        "  - Seaborn is a Python data visualization library built on top of Matplotlib. - It's preferred for statistical visualizations due to several key advantages:\n",
        "\n",
        "    - High-Level Interface: Seaborn provides a high-level interface with intuitive functions for creating informative plots with less code than Matplotlib.\n",
        "    - Focus on Statistical Graphics: It's specifically designed for visualizing statistical relationships between variables, offering functions for distributions, relationships, comparisons, and more.\n",
        "    - Complex Plot Types: It simplifies the creation of complex statistical plots like violin plots, pair plots, joint plots, and heatmaps, which can be more involved to create in Matplotlib.\n",
        "\n",
        "\\\n",
        "\n",
        "6. What are the differences between NumPy arrays and Python lists?\n",
        "\n",
        "\n",
        "  |Feature|NumPy Array|Python List|\n",
        "  |-------|--------|--------|\n",
        "  |Data Type|Homogeneous (all elements must be the same type)|Heterogeneous (elements can be of different types)|\n",
        "  |Performance|Generally faster for numerical operations|Can be slower for numerical operations, especially on large data|\n",
        "  |Memory Usage|More memory-efficient for numerical data|Can consume more memory for numerical data|\n",
        "  |Functionality|Optimized for numerical and mathematical operations|Basic sequence operations|\n",
        "\n",
        "\\\n",
        "\n",
        "7. What is a heatmap, and when should it be used?\n",
        "\n",
        "  - Heatmap is a graphical representation of data where values are encoded using color.\n",
        "  - Typically, a 2D grid of data is displayed, and each cell is colored based on its corresponding value.\n",
        "\n",
        "  - Heatmaps are particularly useful for:\n",
        "\n",
        "    - Visualizing Correlation Matrices: Displaying the strength and direction of linear relationships between multiple variables.\n",
        "    - Showing Missing Data Patterns: Identifying where missing values occur in a dataset.\n",
        "    - Representing Matrices and Tables: Making large numerical tables more visually digestible.\n",
        "    - Highlighting Patterns and Clusters: Revealing underlying structures or groupings in data.\n",
        "\n",
        "\\\n",
        "\n",
        "8. What does the term \"vectorized operation\" mean in NumPy?\n",
        "\n",
        "  - A vectorized operation in NumPy refers to performing an operation on an entire array (or a slice of an array) element-wise without the need for explicit Python loops.\n",
        "\n",
        "  - Benefits of vectorized operations:\n",
        "\n",
        "    - Speed: Vectorized operations are significantly faster than equivalent Python loops because they leverage optimized C code and often utilize Single Instruction Multiple Data (SIMD) capabilities of the processor.\n",
        "    - Conciseness: They lead to more concise and readable code, as you operate on entire arrays at once.\n",
        "\n",
        "            Example: Element-wise addition without a loop:\n",
        "\n",
        "            Python\n",
        "\n",
        "            import numpy as np\n",
        "\n",
        "            a = np.array([1, 2, 3])\n",
        "            b = np.array([4, 5, 6])\n",
        "\n",
        "            result = a + b  # Vectorized addition\n",
        "            print(result)  # Output: [5 7 9]\n",
        "\n",
        "\\\n",
        "\n",
        "9. How does Matplotlib differ from Plotly?\n",
        "\n",
        "  - Matplotlib and Plotly are both popular Python libraries for data visualization, but they have key differences:\n",
        "\n",
        "\n",
        "  |Feature|Matplotlib|Plotly|\n",
        "  |----|----|----|\n",
        "  |Interactivity|Primarily static plots|Highly interactive plots (zoom, pan, hover)|\n",
        "  |Output|Static images (PNG, JPG, SVG, etc.)|Interactive HTML files, can be embedded in web apps|\n",
        "  |Ease of Use (for complex plots)|Can require more code for complex visualizations|Often simpler syntax for interactive and complex plots|\n",
        "  |Output Format|Primarily for static reports and publications|Well-suited for web-based dashboards and interactive exploration|\n",
        "  |3D Plots|Possible, but can be less straightforward|Excellent support for interactive 3D plots|\n",
        "\n",
        "\\\n",
        "\n",
        "10. What is the significance of hierarchical indexing in Pandas?\n",
        "\n",
        "  - Hierarchical indexing (also known as MultiIndex) in Pandas allows you to have multiple levels of row or column labels. This is particularly useful for working with higher-dimensional data in a two-dimensional DataFrame or Series.\n",
        "\n",
        "  - Significance of hierarchical indexing:\n",
        "\n",
        "      - Representing Higher Dimensions: It enables you to represent data with more than two dimensions within the familiar DataFrame structure.\n",
        "      - Complex Data Organization: It allows for more sophisticated and intuitive organization of data, especially when dealing with grouped or multi-category datasets.\n",
        "      - Easier Data Selection and Manipulation: You can select and manipulate subsets of data based on different levels of the index, making data slicing and aggregation more powerful.\n",
        "      - Improved Readability: Hierarchical labels can make complex datasets more understandable.\n",
        "\n",
        "\\\n",
        "\n",
        "11. What is the role of Seaborn's pairplot() function?\n",
        "\n",
        "  - The role of pairplot() is to:\n",
        "      - Explore Relationships: Quickly provide an overview of potential correlations and relationships between different pairs of variables.\n",
        "      - Identify Patterns: Help identify linear or non-linear relationships, clusters, and outliers.\n",
        "      - Feature Selection Insight: Offer clues about which features might be related and potentially redundant or highly informative for modeling.\n",
        "      - Data Understanding: Facilitate a better understanding of the overall structure and characteristics of the dataset.\n",
        "\n",
        "\\\n",
        "\n",
        "12. What is the purpose of the describe() function in Pandas?\n",
        "\n",
        "  - The describe() function in Pandas is used to generate descriptive statistics of a DataFrame or a Series. It provides a concise summary of the distribution of numerical columns, including:\n",
        "\n",
        "      - count: The number of non-missing values.\n",
        "      - mean: The average value.\n",
        "      - std: The standard deviation (a measure of data dispersion).\n",
        "      - min: The minimum value.\n",
        "      - 25% (Q1): The first quartile (the value below which 25% of the data falls).\n",
        "      - 50% (median or Q2): The second quartile (the middle value).\n",
        "      - 75% (Q3): The third quartile (the value below which 75% of the data falls).\n",
        "      - max: The maximum value.\n",
        "\n",
        "  - For categorical (object) or boolean columns, describe() provides different statistics like count, unique (number of unique values), top (the most frequent value), and freq (the frequency of the top value).\n",
        "\n",
        "  - The purpose of describe() is to quickly get a statistical overview of your data, helping you understand its central tendency, spread, and shape.\n",
        "\n",
        "\\\n",
        "\n",
        "13. Why is handling missing data important in Pandas?\n",
        "\n",
        "  - Impact on Analysis: Missing values can lead to incorrect or biased results in statistical analyses, machine learning models, and visualizations.\n",
        "  - Errors in Computations: Many numerical operations and functions in Pandas and other libraries may return errors or unexpected results when encountering missing values.\n",
        "  - Reduced Data Quality: Missing data can reduce the overall quality and reliability of your dataset.\n",
        "\n",
        "\\\n",
        "\n",
        "14. What are the benefits of using Plotly for data visualization?\n",
        "\n",
        "  - Interactivity: Creates highly interactive plots that allow users to zoom, pan, hover over data points, and include dynamic features like animations and dropdown menus.\n",
        "  - Web-Based Output: Generates visualizations as interactive HTML files that can be be shared, embedded in web applications, and viewed in any web browser.\n",
        "  - Aesthetics: Offers visually appealing default styles and a wide range of customizable themes and templates.\n",
        "  - Variety of Plot Types: Supports a rich set of chart types, including basic plots, statistical plots, scientific charts, maps, and 3D visualizations.\n",
        "\n",
        "\\\n",
        "\n",
        "15. How does NumPy handle multidimensional arrays?\n",
        "\n",
        "  - Contiguous Memory Allocation: NumPy arrays are typically stored in contiguous blocks of memory, allowing for fast and efficient access to elements.\n",
        "  - Broadcasting: NumPy's broadcasting rules enable element-wise operations on arrays with different but compatible shapes, simplifying operations across multiple dimensions.\n",
        "  - Rich Set of Functions: NumPy provides a vast library of functions that operate efficiently on multidimensional arrays, including mathematical operations, linear algebra routines, reshaping, indexing, and slicing across multiple axes.\n",
        "\n",
        "\\\n",
        "\n",
        "16. What is the role of Bokeh in data visualization?\n",
        "\n",
        "  - Bokeh is a Python interactive visualization library that targets modern web browsers for presentation. Its role in data visualization includes:\n",
        "\n",
        "  - Interactive Visualizations: Creating interactive plots with features like zooming, panning, hover tooltips, and linked brushing.\n",
        "  - Web Output: Generating visualizations as HTML and JavaScript that can be easily embedded in web pages and applications.\n",
        "  - Focus on Large Datasets: Designed to handle large and streaming datasets efficiently, making it suitable for interactive exploration of big data..\n",
        "  - Customization: Provides extensive options for customizing the appearance and behavior of plots.\n",
        "  - Server Capabilities: Bokeh Server allows you to build interactive web applications with real-time updates based on user interactions with the visualizations.\n",
        "  - While both Plotly and Bokeh focus on interactivity and web output, Bokeh is often favored for building more complex, custom interactive applications and handling very large datasets, while Plotly can be easier for quickly creating a wide variety of interactive chart types.\n",
        "\n",
        "\\\n",
        "\n",
        "17. Explain the difference between apply() and map() in Pandas.\n",
        "\n",
        "  - Both apply() and map() are used for applying functions to Pandas Series or DataFrames.\n",
        "\n",
        "  - map() works on a Series for simple element-wise transformations or value substitutions. The function expects a single value as input.\n",
        "  - apply() works on a Series for operations that require the entire Series to be processed by the function. The function expects a Series as input.\n",
        "  \n",
        "\n",
        "      import pandas as pd\n",
        "\n",
        "      s = pd.Series([1, 2, 3, 4])\n",
        "      squared = s.map(lambda x: x**2)\n",
        "      print(squared) # Output: 0     1, 1     4, 2     9, 3    16, dtype: int64\n",
        "\n",
        "      mapping = {1: 'A', 2: 'B', 3: 'C', 4: 'D'}\n",
        "      mapped = s.map(mapping)\n",
        "      print(mapped) # Output: 0    A, 1    B, 2    C, 3    D,\n",
        "\n",
        "\\\n",
        "\n",
        "18. What are some advanced features of NumPy?\n",
        "  - NumPy offers several advanced features that empower more sophisticated numerical computations:\n",
        "\n",
        "      - Fancy Indexing: This allows to select subsets of array elements using integer arrays or boolean arrays as indices.\n",
        "      - Masked Arrays: NumPy's ma module introduces masked arrays, which are arrays that can have missing or invalid entries. These entries are associated with a boolean mask.\n",
        "      - Structured Arrays: These are arrays whose elements can have different data types, much like rows in a table or records in a database. Each element can be thought of as a tuple with named fields.\n",
        "      - Linear Algebra (numpy.linalg): This submodule contains a comprehensive set of functions for linear algebra operations, including matrix multiplication, determinant calculation, solving linear systems of equations, eigenvalue decomposition.\n",
        "      - Random Number Generation (numpy.random): NumPy's random module offers a wide array of functions for generating random numbers from various probability distributions, which is crucial for simulations, statistical modeling, and machine learning.\n",
        "      - Broadcasting Rules (Advanced): A deeper understanding of NumPy's broadcasting rules allows for more complex and efficient operations on arrays with different shapes, especially in higher dimensions.\n",
        "\n",
        "\\\n",
        "\n",
        "19. How does Pandas simplify time series analysis?\n",
        "\n",
        "  - Dedicated DatetimeIndex: Pandas has a specialized index called DatetimeIndex, which is specifically designed for time-based data.\n",
        "  - Time Series Data Structures: Pandas Series and DataFrames can have a DatetimeIndex, making them inherently time series data structures.\n",
        "  - Date and Time Parsing: The pd.to_datetime() function provides a way to convert various string formats into datetime objects.\n",
        "  - Time-Based Indexing and Slicing: With a DatetimeIndex, dta can be selected based on specific dates, date ranges, years, months, days, or even time intervals using intuitive string-based indexing.\n",
        "  - Resampling: The resample() method allows to change the frequency of your time series data.\n",
        "  - Period and Time Span Representation: Pandas offers Period objects to represent fixed intervals of time (e.g., a specific month or year) and Timedelta objects to represent durations or differences between times.\n",
        "\n",
        "\\\n",
        "\n",
        "20. What is the role of a pivot table in Pandas?\n",
        "  - The role of a pivot table is to:\n",
        "      - Summarize Large Datasets: Condense detailed data into a more concise and understandable format.\n",
        "      - Aggregate Data: Perform calculations across different categories or groupings within your data.\n",
        "      - Reshape Data for Analysis: Transform data from a \"long\" format to a more \"wide\" format, making it easier to compare values across different dimensions.\n",
        "      - Cross-Tabulation: Analyze the relationship between two or more categorical variables by showing the counts or proportions of their combinations.\n",
        "     - Identify Patterns and Insights: Reveal trends and relationships in the data that might not be immediately obvious in the original format.\n",
        "     - Create Reports and Visualizations: Prepare data in a format suitable for generating insightful reports and visualizations.\n",
        "\n",
        "\\\n",
        "\n",
        "21. Why is NumPy's array slicing faster than Python's list slicing?\n",
        "\n",
        "  - Contiguous Memory Allocation: NumPy arrays are typically stored in contiguous blocks of memory. This means that elements are stored next to each other in memory.\n",
        "  - Homogeneous Data Types: NumPy arrays store elements of the same data type. This allows for more efficient calculations and memory access because the size of each element is known and uniform.\n",
        "\n",
        "\\\n",
        "\n",
        "22. What are some common use cases for Seaborn?\n",
        "\n",
        "  - Exploring Relationships Between Variables:\n",
        "\n",
        "      - Scatter Plots (sns.scatterplot()): Visualizing the relationship between two numerical variables.\n",
        "      - Pair Plots (sns.pairplot()): Creating a matrix of scatter plots to explore pairwise relationships across multiple variables.\n",
        "      - Joint Plots (sns.jointplot()): Examining the relationship between two variables along with their univariate distributions (histograms or KDEs).\n",
        "      - Correlation Heatmaps (sns.heatmap()): Displaying the correlation matrix between numerical variables using color intensity.\n",
        "      - Regression Plots (sns.regplot(), sns.lmplot()): Visualizing linear relationships between variables, often with confidence intervals.\n",
        "\n",
        "  - Visualizing Distributions:\n",
        "\n",
        "      - Histograms (sns.histplot()): Showing the distribution of a single numerical variable.\n",
        "      - Kernel Density Estimates (sns.kdeplot()): Smoothing the distribution of a numerical variable.\n",
        "      - Box Plots (sns.boxplot()): Comparing the distribution of a numerical variable across different categories.\n",
        "      - Violin Plots (sns.violinplot()): Similar to box plots but also showing the probability density of the data at different values.\n",
        "\n",
        "  - Comparing Categories:\n",
        "\n",
        "      - Bar Plots (sns.barplot()): Comparing the means or other statistics of a numerical variable across different categories.\n",
        "      - Count Plots (sns.countplot()): Showing the counts of observations in each category.\n",
        "      - Point Plots (sns.pointplot()): Similar to bar plots but using points and lines to show estimates and confidence intervals.\n",
        "\n",
        "  - Time Series Analysis (in conjunction with Pandas):\n",
        "\n",
        "      - Creating line plots to visualize trends over time.\n",
        "      - Using box plots or violin plots to compare distributions across different time periods (e.g., months or years).\n",
        "\n",
        "  - Presenting Statistical Results:\n",
        "      - Creating visually appealing and informative plots for reports, presentations, and publications.\n",
        "      - Seaborn's default aesthetics are often more visually appealing than Matplotlib's defaults.\n",
        "\n"
      ],
      "metadata": {
        "id": "SzaYGsFYSOOV"
      }
    },
    {
      "cell_type": "markdown",
      "source": [
        "# Practical"
      ],
      "metadata": {
        "id": "uZGOwSXpG3gr"
      }
    },
    {
      "cell_type": "markdown",
      "source": [
        "1. How do you create a 2D NumPy array and calculate the sum of each row?"
      ],
      "metadata": {
        "id": "lno1EAPBG9Ef"
      }
    },
    {
      "cell_type": "code",
      "execution_count": 4,
      "metadata": {
        "colab": {
          "base_uri": "https://localhost:8080/"
        },
        "id": "HB4B29xqGqIs",
        "outputId": "f0053b6d-4036-48e0-b855-7d53bd198df2"
      },
      "outputs": [
        {
          "output_type": "stream",
          "name": "stdout",
          "text": [
            "[[1 2 3]\n",
            " [4 5 6]\n",
            " [7 8 9]]\n",
            "**********\n",
            "[ 6 15 24]\n"
          ]
        }
      ],
      "source": [
        "import numpy as np\n",
        "\n",
        "arr = np.array([[1, 2, 3],\n",
        "                [4, 5, 6],\n",
        "                [7, 8, 9]])\n",
        "\n",
        "print(arr)\n",
        "\n",
        "row_sums = np.sum(arr, axis=1)\n",
        "\n",
        "print(\"*\" * 10)\n",
        "print(row_sums)"
      ]
    },
    {
      "cell_type": "markdown",
      "source": [
        "2. Write a Pandas script to find the mean of a specific column in a DataFrame."
      ],
      "metadata": {
        "id": "qnPMgAzpHYtp"
      }
    },
    {
      "cell_type": "code",
      "source": [
        "import pandas as pd\n",
        "\n",
        "# Sample\n",
        "data = {'col1': [10, 20, 30, 40],\n",
        "        'col2': [1.1, 2.2, 3.3, 4.4],\n",
        "        'col3': ['A', 'B', 'A', 'C']}\n",
        "df = pd.DataFrame(data)\n",
        "\n",
        "print(df)\n",
        "\n",
        "column_name = 'col2'\n",
        "\n",
        "column_mean = df[column_name].mean()\n",
        "\n",
        "print(f\"\\nMean of column '{column_name}': {column_mean}\")"
      ],
      "metadata": {
        "colab": {
          "base_uri": "https://localhost:8080/"
        },
        "id": "61WwiHlnHLJA",
        "outputId": "8952d7c1-4fcd-4943-f1e1-584e0da3095d"
      },
      "execution_count": 9,
      "outputs": [
        {
          "output_type": "stream",
          "name": "stdout",
          "text": [
            "   col1  col2 col3\n",
            "0    10   1.1    A\n",
            "1    20   2.2    B\n",
            "2    30   3.3    A\n",
            "3    40   4.4    C\n",
            "\n",
            "Mean of column 'col2': 2.75\n"
          ]
        }
      ]
    },
    {
      "cell_type": "markdown",
      "source": [
        "3. Create a scatter plot using Matplotlib."
      ],
      "metadata": {
        "id": "OxdXGqmGH2Fa"
      }
    },
    {
      "cell_type": "code",
      "source": [
        "import matplotlib.pyplot as plt\n",
        "\n",
        "# Sample\n",
        "x = [1, 2, 3, 4, 5]\n",
        "y = [2, 4, 1, 5, 3]\n",
        "\n",
        "plt.scatter(x, y)\n",
        "\n",
        "plt.xlabel(\"X-axis\")\n",
        "plt.ylabel(\"Y-axis\")\n",
        "plt.title(\"Scatter Plot\")\n",
        "\n",
        "plt.show()"
      ],
      "metadata": {
        "colab": {
          "base_uri": "https://localhost:8080/",
          "height": 472
        },
        "id": "t5UcAQOvHsUE",
        "outputId": "ba2a4918-f3f0-4dea-a638-f396990aa5a3"
      },
      "execution_count": 10,
      "outputs": [
        {
          "output_type": "display_data",
          "data": {
            "text/plain": [
              "<Figure size 640x480 with 1 Axes>"
            ],
            "image/png": "[encoded data removed]"
          },
          "metadata": {}
        }
      ]
    },
    {
      "cell_type": "markdown",
      "source": [
        "4. How do you calculate the correlation matrix using Seaborn and visualize it with a heatmap?"
      ],
      "metadata": {
        "id": "hoW6JVY_IHsM"
      }
    },
    {
      "cell_type": "code",
      "source": [
        "import seaborn as sns\n",
        "import matplotlib.pyplot as plt\n",
        "import pandas as pd\n",
        "\n",
        "# Sample\n",
        "data = {'sample1': [1, 2, 3, 4, 5],\n",
        "        'sample2': [2, 4, 1, 5, 3],\n",
        "        'sample3': [5, 3, 4, 2, 1]}\n",
        "df = pd.DataFrame(data)\n",
        "\n",
        "correlation_matrix = df.corr()\n",
        "\n",
        "sns.heatmap(correlation_matrix, annot=True, cmap='crest')\n",
        "\n",
        "plt.title(\"Sample Correlation Heatmap\")\n",
        "\n",
        "plt.show()"
      ],
      "metadata": {
        "colab": {
          "base_uri": "https://localhost:8080/",
          "height": 452
        },
        "id": "yr9Pj-EbH9VN",
        "outputId": "e2aa6b55-366b-4e32-c4cd-6db1042bc275"
      },
      "execution_count": 40,
      "outputs": [
        {
          "output_type": "display_data",
          "data": {
            "text/plain": [
              "<Figure size 640x480 with 2 Axes>"
            ],
            "image/png": "[encoded data removed]"
          },
          "metadata": {}
        }
      ]
    },
    {
      "cell_type": "markdown",
      "source": [
        "5. Generate a bar plot using Plotly."
      ],
      "metadata": {
        "id": "CArKamgPIetv"
      }
    },
    {
      "cell_type": "code",
      "source": [
        "import plotly.express as px\n",
        "\n",
        "# Sample\n",
        "x_data = ['A', 'B', 'C', 'D']\n",
        "y_data = [20, 35, 15, 45]\n",
        "\n",
        "px.bar(x=x_data, y=y_data, labels={'x': 'x_data', 'y': 'y_data'},\n",
        "             title='Bar Plot Example')"
      ],
      "metadata": {
        "colab": {
          "base_uri": "https://localhost:8080/",
          "height": 542
        },
        "id": "MNgnC5tIIGZJ",
        "outputId": "4d81630c-e401-4e60-dc92-fbcb398565db"
      },
      "execution_count": 22,
      "outputs": [
        {
          "output_type": "display_data",
          "data": {
            "text/html": [
              "<html>\n",
              "<head><meta charset=\"utf-8\" /></head>\n",
              "<body>\n",
              "    <div>            <script src=\"https://cdnjs.cloudflare.com/ajax/libs/mathjax/2.7.5/MathJax.js?config=TeX-AMS-MML_SVG\"></script><script type=\"text/javascript\">if (window.MathJax && window.MathJax.Hub && window.MathJax.Hub.Config) {window.MathJax.Hub.Config({SVG: {font: \"STIX-Web\"}});}</script>                <script type=\"text/javascript\">window.PlotlyConfig = {MathJaxConfig: 'local'};</script>\n",
              "        <script charset=\"utf-8\" src=\"https://cdn.plot.ly/plotly-2.35.2.min.js\"></script>                <div id=\"cf66281d-e1e3-4b85-91ce-4645d7aceac4\" class=\"plotly-graph-div\" style=\"height:525px; width:100%;\"></div>            <script type=\"text/javascript\">                                    window.PLOTLYENV=window.PLOTLYENV || {};                                    if (document.getElementById(\"cf66281d-e1e3-4b85-91ce-4645d7aceac4\")) {                    Plotly.newPlot(                        \"cf66281d-e1e3-4b85-91ce-4645d7aceac4\",                        [{\"alignmentgroup\":\"True\",\"hovertemplate\":\"x_data=%{x}\\u003cbr\\u003ey_data=%{y}\\u003cextra\\u003e\\u003c\\u002fextra\\u003e\",\"legendgroup\":\"\",\"marker\":{\"color\":\"#636efa\",\"pattern\":{\"shape\":\"\"}},\"name\":\"\",\"offsetgroup\":\"\",\"orientation\":\"v\",\"showlegend\":false,\"textposition\":\"auto\",\"x\":[\"A\",\"B\",\"C\",\"D\"],\"xaxis\":\"x\",\"y\":[20,35,15,45],\"yaxis\":\"y\",\"type\":\"bar\"}],                        {\"template\":{\"data\":{\"histogram2dcontour\":[{\"type\":\"histogram2dcontour\",\"colorbar\":{\"outlinewidth\":0,\"ticks\":\"\"},\"colorscale\":[[0.0,\"#0d0887\"],[0.1111111111111111,\"#46039f\"],[0.2222222222222222,\"#7201a8\"],[0.3333333333333333,\"#9c179e\"],[0.4444444444444444,\"#bd3786\"],[0.5555555555555556,\"#d8576b\"],[0.6666666666666666,\"#ed7953\"],[0.7777777777777778,\"#fb9f3a\"],[0.8888888888888888,\"#fdca26\"],[1.0,\"#f0f921\"]]}],\"choropleth\":[{\"type\":\"choropleth\",\"colorbar\":{\"outlinewidth\":0,\"ticks\":\"\"}}],\"histogram2d\":[{\"type\":\"histogram2d\",\"colorbar\":{\"outlinewidth\":0,\"ticks\":\"\"},\"colorscale\":[[0.0,\"#0d0887\"],[0.1111111111111111,\"#46039f\"],[0.2222222222222222,\"#7201a8\"],[0.3333333333333333,\"#9c179e\"],[0.4444444444444444,\"#bd3786\"],[0.5555555555555556,\"#d8576b\"],[0.6666666666666666,\"#ed7953\"],[0.7777777777777778,\"#fb9f3a\"],[0.8888888888888888,\"#fdca26\"],[1.0,\"#f0f921\"]]}],\"heatmap\":[{\"type\":\"heatmap\",\"colorbar\":{\"outlinewidth\":0,\"ticks\":\"\"},\"colorscale\":[[0.0,\"#0d0887\"],[0.1111111111111111,\"#46039f\"],[0.2222222222222222,\"#7201a8\"],[0.3333333333333333,\"#9c179e\"],[0.4444444444444444,\"#bd3786\"],[0.5555555555555556,\"#d8576b\"],[0.6666666666666666,\"#ed7953\"],[0.7777777777777778,\"#fb9f3a\"],[0.8888888888888888,\"#fdca26\"],[1.0,\"#f0f921\"]]}],\"heatmapgl\":[{\"type\":\"heatmapgl\",\"colorbar\":{\"outlinewidth\":0,\"ticks\":\"\"},\"colorscale\":[[0.0,\"#0d0887\"],[0.1111111111111111,\"#46039f\"],[0.2222222222222222,\"#7201a8\"],[0.3333333333333333,\"#9c179e\"],[0.4444444444444444,\"#bd3786\"],[0.5555555555555556,\"#d8576b\"],[0.6666666666666666,\"#ed7953\"],[0.7777777777777778,\"#fb9f3a\"],[0.8888888888888888,\"#fdca26\"],[1.0,\"#f0f921\"]]}],\"contourcarpet\":[{\"type\":\"contourcarpet\",\"colorbar\":{\"outlinewidth\":0,\"ticks\":\"\"}}],\"contour\":[{\"type\":\"contour\",\"colorbar\":{\"outlinewidth\":0,\"ticks\":\"\"},\"colorscale\":[[0.0,\"#0d0887\"],[0.1111111111111111,\"#46039f\"],[0.2222222222222222,\"#7201a8\"],[0.3333333333333333,\"#9c179e\"],[0.4444444444444444,\"#bd3786\"],[0.5555555555555556,\"#d8576b\"],[0.6666666666666666,\"#ed7953\"],[0.7777777777777778,\"#fb9f3a\"],[0.8888888888888888,\"#fdca26\"],[1.0,\"#f0f921\"]]}],\"surface\":[{\"type\":\"surface\",\"colorbar\":{\"outlinewidth\":0,\"ticks\":\"\"},\"colorscale\":[[0.0,\"#0d0887\"],[0.1111111111111111,\"#46039f\"],[0.2222222222222222,\"#7201a8\"],[0.3333333333333333,\"#9c179e\"],[0.4444444444444444,\"#bd3786\"],[0.5555555555555556,\"#d8576b\"],[0.6666666666666666,\"#ed7953\"],[0.7777777777777778,\"#fb9f3a\"],[0.8888888888888888,\"#fdca26\"],[1.0,\"#f0f921\"]]}],\"mesh3d\":[{\"type\":\"mesh3d\",\"colorbar\":{\"outlinewidth\":0,\"ticks\":\"\"}}],\"scatter\":[{\"fillpattern\":{\"fillmode\":\"overlay\",\"size\":10,\"solidity\":0.2},\"type\":\"scatter\"}],\"parcoords\":[{\"type\":\"parcoords\",\"line\":{\"colorbar\":{\"outlinewidth\":0,\"ticks\":\"\"}}}],\"scatterpolargl\":[{\"type\":\"scatterpolargl\",\"marker\":{\"colorbar\":{\"outlinewidth\":0,\"ticks\":\"\"}}}],\"bar\":[{\"error_x\":{\"color\":\"#2a3f5f\"},\"error_y\":{\"color\":\"#2a3f5f\"},\"marker\":{\"line\":{\"color\":\"#E5ECF6\",\"width\":0.5},\"pattern\":{\"fillmode\":\"overlay\",\"size\":10,\"solidity\":0.2}},\"type\":\"bar\"}],\"scattergeo\":[{\"type\":\"scattergeo\",\"marker\":{\"colorbar\":{\"outlinewidth\":0,\"ticks\":\"\"}}}],\"scatterpolar\":[{\"type\":\"scatterpolar\",\"marker\":{\"colorbar\":{\"outlinewidth\":0,\"ticks\":\"\"}}}],\"histogram\":[{\"marker\":{\"pattern\":{\"fillmode\":\"overlay\",\"size\":10,\"solidity\":0.2}},\"type\":\"histogram\"}],\"scattergl\":[{\"type\":\"scattergl\",\"marker\":{\"colorbar\":{\"outlinewidth\":0,\"ticks\":\"\"}}}],\"scatter3d\":[{\"type\":\"scatter3d\",\"line\":{\"colorbar\":{\"outlinewidth\":0,\"ticks\":\"\"}},\"marker\":{\"colorbar\":{\"outlinewidth\":0,\"ticks\":\"\"}}}],\"scattermapbox\":[{\"type\":\"scattermapbox\",\"marker\":{\"colorbar\":{\"outlinewidth\":0,\"ticks\":\"\"}}}],\"scatterternary\":[{\"type\":\"scatterternary\",\"marker\":{\"colorbar\":{\"outlinewidth\":0,\"ticks\":\"\"}}}],\"scattercarpet\":[{\"type\":\"scattercarpet\",\"marker\":{\"colorbar\":{\"outlinewidth\":0,\"ticks\":\"\"}}}],\"carpet\":[{\"aaxis\":{\"endlinecolor\":\"#2a3f5f\",\"gridcolor\":\"white\",\"linecolor\":\"white\",\"minorgridcolor\":\"white\",\"startlinecolor\":\"#2a3f5f\"},\"baxis\":{\"endlinecolor\":\"#2a3f5f\",\"gridcolor\":\"white\",\"linecolor\":\"white\",\"minorgridcolor\":\"white\",\"startlinecolor\":\"#2a3f5f\"},\"type\":\"carpet\"}],\"table\":[{\"cells\":{\"fill\":{\"color\":\"#EBF0F8\"},\"line\":{\"color\":\"white\"}},\"header\":{\"fill\":{\"color\":\"#C8D4E3\"},\"line\":{\"color\":\"white\"}},\"type\":\"table\"}],\"barpolar\":[{\"marker\":{\"line\":{\"color\":\"#E5ECF6\",\"width\":0.5},\"pattern\":{\"fillmode\":\"overlay\",\"size\":10,\"solidity\":0.2}},\"type\":\"barpolar\"}],\"pie\":[{\"automargin\":true,\"type\":\"pie\"}]},\"layout\":{\"autotypenumbers\":\"strict\",\"colorway\":[\"#636efa\",\"#EF553B\",\"#00cc96\",\"#ab63fa\",\"#FFA15A\",\"#19d3f3\",\"#FF6692\",\"#B6E880\",\"#FF97FF\",\"#FECB52\"],\"font\":{\"color\":\"#2a3f5f\"},\"hovermode\":\"closest\",\"hoverlabel\":{\"align\":\"left\"},\"paper_bgcolor\":\"white\",\"plot_bgcolor\":\"#E5ECF6\",\"polar\":{\"bgcolor\":\"#E5ECF6\",\"angularaxis\":{\"gridcolor\":\"white\",\"linecolor\":\"white\",\"ticks\":\"\"},\"radialaxis\":{\"gridcolor\":\"white\",\"linecolor\":\"white\",\"ticks\":\"\"}},\"ternary\":{\"bgcolor\":\"#E5ECF6\",\"aaxis\":{\"gridcolor\":\"white\",\"linecolor\":\"white\",\"ticks\":\"\"},\"baxis\":{\"gridcolor\":\"white\",\"linecolor\":\"white\",\"ticks\":\"\"},\"caxis\":{\"gridcolor\":\"white\",\"linecolor\":\"white\",\"ticks\":\"\"}},\"coloraxis\":{\"colorbar\":{\"outlinewidth\":0,\"ticks\":\"\"}},\"colorscale\":{\"sequential\":[[0.0,\"#0d0887\"],[0.1111111111111111,\"#46039f\"],[0.2222222222222222,\"#7201a8\"],[0.3333333333333333,\"#9c179e\"],[0.4444444444444444,\"#bd3786\"],[0.5555555555555556,\"#d8576b\"],[0.6666666666666666,\"#ed7953\"],[0.7777777777777778,\"#fb9f3a\"],[0.8888888888888888,\"#fdca26\"],[1.0,\"#f0f921\"]],\"sequentialminus\":[[0.0,\"#0d0887\"],[0.1111111111111111,\"#46039f\"],[0.2222222222222222,\"#7201a8\"],[0.3333333333333333,\"#9c179e\"],[0.4444444444444444,\"#bd3786\"],[0.5555555555555556,\"#d8576b\"],[0.6666666666666666,\"#ed7953\"],[0.7777777777777778,\"#fb9f3a\"],[0.8888888888888888,\"#fdca26\"],[1.0,\"#f0f921\"]],\"diverging\":[[0,\"#8e0152\"],[0.1,\"#c51b7d\"],[0.2,\"#de77ae\"],[0.3,\"#f1b6da\"],[0.4,\"#fde0ef\"],[0.5,\"#f7f7f7\"],[0.6,\"#e6f5d0\"],[0.7,\"#b8e186\"],[0.8,\"#7fbc41\"],[0.9,\"#4d9221\"],[1,\"#276419\"]]},\"xaxis\":{\"gridcolor\":\"white\",\"linecolor\":\"white\",\"ticks\":\"\",\"title\":{\"standoff\":15},\"zerolinecolor\":\"white\",\"automargin\":true,\"zerolinewidth\":2},\"yaxis\":{\"gridcolor\":\"white\",\"linecolor\":\"white\",\"ticks\":\"\",\"title\":{\"standoff\":15},\"zerolinecolor\":\"white\",\"automargin\":true,\"zerolinewidth\":2},\"scene\":{\"xaxis\":{\"backgroundcolor\":\"#E5ECF6\",\"gridcolor\":\"white\",\"linecolor\":\"white\",\"showbackground\":true,\"ticks\":\"\",\"zerolinecolor\":\"white\",\"gridwidth\":2},\"yaxis\":{\"backgroundcolor\":\"#E5ECF6\",\"gridcolor\":\"white\",\"linecolor\":\"white\",\"showbackground\":true,\"ticks\":\"\",\"zerolinecolor\":\"white\",\"gridwidth\":2},\"zaxis\":{\"backgroundcolor\":\"#E5ECF6\",\"gridcolor\":\"white\",\"linecolor\":\"white\",\"showbackground\":true,\"ticks\":\"\",\"zerolinecolor\":\"white\",\"gridwidth\":2}},\"shapedefaults\":{\"line\":{\"color\":\"#2a3f5f\"}},\"annotationdefaults\":{\"arrowcolor\":\"#2a3f5f\",\"arrowhead\":0,\"arrowwidth\":1},\"geo\":{\"bgcolor\":\"white\",\"landcolor\":\"#E5ECF6\",\"subunitcolor\":\"white\",\"showland\":true,\"showlakes\":true,\"lakecolor\":\"white\"},\"title\":{\"x\":0.05},\"mapbox\":{\"style\":\"light\"}}},\"xaxis\":{\"anchor\":\"y\",\"domain\":[0.0,1.0],\"title\":{\"text\":\"x_data\"}},\"yaxis\":{\"anchor\":\"x\",\"domain\":[0.0,1.0],\"title\":{\"text\":\"y_data\"}},\"legend\":{\"tracegroupgap\":0},\"title\":{\"text\":\"Bar Plot Example\"},\"barmode\":\"relative\"},                        {\"responsive\": true}                    ).then(function(){\n",
              "                            \n",
              "var gd = document.getElementById('cf66281d-e1e3-4b85-91ce-4645d7aceac4');\n",
              "var x = new MutationObserver(function (mutations, observer) {{\n",
              "        var display = window.getComputedStyle(gd).display;\n",
              "        if (!display || display === 'none') {{\n",
              "            console.log([gd, 'removed!']);\n",
              "            Plotly.purge(gd);\n",
              "            observer.disconnect();\n",
              "        }}\n",
              "}});\n",
              "\n",
              "// Listen for the removal of the full notebook cells\n",
              "var notebookContainer = gd.closest('#notebook-container');\n",
              "if (notebookContainer) {{\n",
              "    x.observe(notebookContainer, {childList: true});\n",
              "}}\n",
              "\n",
              "// Listen for the clearing of the current output cell\n",
              "var outputEl = gd.closest('.output');\n",
              "if (outputEl) {{\n",
              "    x.observe(outputEl, {childList: true});\n",
              "}}\n",
              "\n",
              "                        })                };                            </script>        </div>\n",
              "</body>\n",
              "</html>"
            ]
          },
          "metadata": {}
        }
      ]
    },
    {
      "cell_type": "markdown",
      "source": [
        "6. Create a DataFrame and add a new column based on an existing column."
      ],
      "metadata": {
        "id": "Ft83ASbkJFxh"
      }
    },
    {
      "cell_type": "code",
      "source": [
        "import pandas as pd\n",
        "\n",
        "# Sample\n",
        "data = {'product': ['apple', 'banana', 'orange', 'grape'],\n",
        "        'price': [100, 45, 120, 350]}\n",
        "\n",
        "df = pd.DataFrame(data)\n",
        "\n",
        "print(df,\"\\n\")\n",
        "\n",
        "disc_perc = 5\n",
        "\n",
        "df['discounted_price'] = df['price'] - (df['price'] * disc_perc / 100)\n",
        "\n",
        "print(\"*\" * 40)\n",
        "\n",
        "print(\"\\n\",df)"
      ],
      "metadata": {
        "colab": {
          "base_uri": "https://localhost:8080/"
        },
        "id": "hiccU6ofImzA",
        "outputId": "da4366c1-386e-4337-8784-a5eca2e8c3e4"
      },
      "execution_count": 37,
      "outputs": [
        {
          "output_type": "stream",
          "name": "stdout",
          "text": [
            "  product  price\n",
            "0   apple    100\n",
            "1  banana     45\n",
            "2  orange    120\n",
            "3   grape    350 \n",
            "\n",
            "****************************************\n",
            "\n",
            "   product  price  discounted_price\n",
            "0   apple    100             95.00\n",
            "1  banana     45             42.75\n",
            "2  orange    120            114.00\n",
            "3   grape    350            332.50\n"
          ]
        }
      ]
    },
    {
      "cell_type": "markdown",
      "source": [
        "7. Write a program to perform element-wise multiplication of two NumPy arrays."
      ],
      "metadata": {
        "id": "P53id4_yKKYY"
      }
    },
    {
      "cell_type": "code",
      "source": [
        "import numpy as np\n",
        "\n",
        "# Sample\n",
        "arr1 = np.array([1, 2, 3, 4])\n",
        "arr2 = np.array([5, 6, 7, 8])\n",
        "\n",
        "print(\"Array 1:\", arr1)\n",
        "print(\"Array 2:\", arr2,\"\\n\")\n",
        "\n",
        "multiplied_array = arr1 * arr2\n",
        "\n",
        "print(\"*\" * 40)\n",
        "\n",
        "print(\"\\nElement-wise multiplication:\", multiplied_array)"
      ],
      "metadata": {
        "colab": {
          "base_uri": "https://localhost:8080/"
        },
        "id": "GnLZRULOJdhb",
        "outputId": "a00e3be6-8e75-4c80-ca64-d472d1c96499"
      },
      "execution_count": 39,
      "outputs": [
        {
          "output_type": "stream",
          "name": "stdout",
          "text": [
            "Array 1: [1 2 3 4]\n",
            "Array 2: [5 6 7 8] \n",
            "\n",
            "****************************************\n",
            "\n",
            "Element-wise multiplication: [ 5 12 21 32]\n"
          ]
        }
      ]
    },
    {
      "cell_type": "markdown",
      "source": [
        "8. Create a line plot with multiple lines using Matplotlib."
      ],
      "metadata": {
        "id": "yL-OUx8HKeFC"
      }
    },
    {
      "cell_type": "code",
      "source": [
        "import matplotlib.pyplot as plt\n",
        "\n",
        "# Sample\n",
        "x = [1, 2, 3, 4, 5]\n",
        "y1 = [2, 4, 1, 5, 3]\n",
        "y2 = [1, 3, 5, 2, 4]\n",
        "y3 = [3, 1, 4, 2, 5]\n",
        "\n",
        "plt.plot(x, y1, label='Line 1', linestyle = \"--\")\n",
        "plt.plot(x, y2, label='Line 2', linestyle = \"-\")\n",
        "plt.plot(x, y3, label='Line 3', linestyle = \"dotted\")\n",
        "\n",
        "plt.xlabel(\"X-axis\")\n",
        "plt.ylabel(\"Y-axis\")\n",
        "plt.title(\"Line Plot with Multiple Lines\")\n",
        "\n",
        "plt.legend()\n",
        "\n",
        "plt.show()"
      ],
      "metadata": {
        "colab": {
          "base_uri": "https://localhost:8080/",
          "height": 472
        },
        "id": "3WnvTpxIKVMQ",
        "outputId": "57d55a34-400c-48c5-f77b-c277f8d1febb"
      },
      "execution_count": 50,
      "outputs": [
        {
          "output_type": "display_data",
          "data": {
            "text/plain": [
              "<Figure size 640x480 with 1 Axes>"
            ],
            "image/png": "[encoded data removed]"
          },
          "metadata": {}
        }
      ]
    },
    {
      "cell_type": "markdown",
      "source": [
        "9. Generate a Pandas DataFrame and filter rows where a column value is greater than a threshold."
      ],
      "metadata": {
        "id": "EU7jTbVXLLHU"
      }
    },
    {
      "cell_type": "code",
      "source": [
        "import pandas as pd\n",
        "\n",
        "# Sample\n",
        "data = {'name': ['Alice', 'Bob', 'Charlie', 'David', 'Eve'],\n",
        "        'age': [25, 30, 22, 35, 28],\n",
        "        'score': [85, 92, 78, 95, 88]}\n",
        "df = pd.DataFrame(data)\n",
        "\n",
        "print(df,\"\\n\")\n",
        "\n",
        "\n",
        "column_to_filter = 'score'\n",
        "threshold = 85\n",
        "\n",
        "filtered_df = df[df[column_to_filter] > threshold]\n",
        "\n",
        "print(\"*\" * 30)\n",
        "\n",
        "print(f\"\\n Filtered data based on {threshold}\\n\\n\", filtered_df)"
      ],
      "metadata": {
        "colab": {
          "base_uri": "https://localhost:8080/"
        },
        "id": "YHEfQzVMKuhL",
        "outputId": "4eff6763-c41f-4ccc-db6c-0daec9da4094"
      },
      "execution_count": 59,
      "outputs": [
        {
          "output_type": "stream",
          "name": "stdout",
          "text": [
            "      name  age  score\n",
            "0    Alice   25     85\n",
            "1      Bob   30     92\n",
            "2  Charlie   22     78\n",
            "3    David   35     95\n",
            "4      Eve   28     88 \n",
            "\n",
            "******************************\n",
            "\n",
            " Filtered data based on 85\n",
            "\n",
            "     name  age  score\n",
            "1    Bob   30     92\n",
            "3  David   35     95\n",
            "4    Eve   28     88\n"
          ]
        }
      ]
    },
    {
      "cell_type": "markdown",
      "source": [
        "10. Create a histogram using Seaborn to visualize a distribution."
      ],
      "metadata": {
        "id": "rOH-iFT9Luzq"
      }
    },
    {
      "cell_type": "code",
      "source": [
        "import seaborn as sns\n",
        "import matplotlib.pyplot as plt\n",
        "import numpy as np\n",
        "\n",
        "# Sample\n",
        "data = np.random.normal(loc=0, scale=1, size=50)\n",
        "\n",
        "sns.histplot(data)\n",
        "\n",
        "plt.xlabel(\"Value\")\n",
        "plt.ylabel(\"Frequency\")\n",
        "plt.title(\"Histogram of Data Distribution\")\n",
        "\n",
        "plt.show()"
      ],
      "metadata": {
        "colab": {
          "base_uri": "https://localhost:8080/",
          "height": 472
        },
        "id": "J3KIbVdYLUQt",
        "outputId": "235fa402-6c03-4691-ec00-5bbefbd93c28"
      },
      "execution_count": 61,
      "outputs": [
        {
          "output_type": "display_data",
          "data": {
            "text/plain": [
              "<Figure size 640x480 with 1 Axes>"
            ],
            "image/png": "[encoded data removed]"
          },
          "metadata": {}
        }
      ]
    },
    {
      "cell_type": "markdown",
      "source": [
        "11. Perform matrix multiplication using NumPy."
      ],
      "metadata": {
        "id": "QnsmiLcHMJnW"
      }
    },
    {
      "cell_type": "code",
      "source": [
        "import numpy as np\n",
        "\n",
        "# Sample\n",
        "matrix_a = np.array([[1, 2],\n",
        "                     [3, 4]])\n",
        "\n",
        "matrix_b = np.array([[5, 6],\n",
        "                     [7, 8]])\n",
        "\n",
        "print(\"Matrix A:\\n\", matrix_a,\"\\n\")\n",
        "print(\"Matrix B:\\n\", matrix_b,\"\\n\")\n",
        "\n",
        "result_matrix = np.dot(matrix_a, matrix_b)\n",
        "\n",
        "print(\"*\" * 20)\n",
        "\n",
        "print(\"\\nMatrix multiplication (A * B):\\n\\n\", result_matrix)"
      ],
      "metadata": {
        "colab": {
          "base_uri": "https://localhost:8080/"
        },
        "id": "wDKTkGnBL2UL",
        "outputId": "79361c68-f4be-4f6d-9c9c-632f3cfff138"
      },
      "execution_count": 67,
      "outputs": [
        {
          "output_type": "stream",
          "name": "stdout",
          "text": [
            "Matrix A:\n",
            " [[1 2]\n",
            " [3 4]] \n",
            "\n",
            "Matrix B:\n",
            " [[5 6]\n",
            " [7 8]] \n",
            "\n",
            "********************\n",
            "\n",
            "Matrix multiplication (A * B):\n",
            "\n",
            " [[19 22]\n",
            " [43 50]]\n"
          ]
        }
      ]
    },
    {
      "cell_type": "markdown",
      "source": [
        "12. Use Pandas to load a CSV file and display its first 5 rows."
      ],
      "metadata": {
        "id": "1CCaKOVNMgKm"
      }
    },
    {
      "cell_type": "markdown",
      "source": [],
      "metadata": {
        "id": "plbJIKtUOi9M"
      }
    },
    {
      "cell_type": "code",
      "source": [
        "import pandas as pd\n",
        "import os\n",
        "\n",
        "file_path = \"/content/drive/MyDrive/Colab Notebooks/pwskills/Assignment_Data_Toolkit/california_housing_test.csv\"\n",
        "\n",
        "try:\n",
        "    df = pd.read_csv(file_path)\n",
        "    print(\"First 5 rows of the DataFrame:\\n\", df.head())\n",
        "except FileNotFoundError:\n",
        "    print(\"Error: 'data.csv' not found. Please make sure the file exists in the correct directory.\")\n",
        "except Exception as e:\n",
        "    print(f\"An error occurred: {e}\")"
      ],
      "metadata": {
        "colab": {
          "base_uri": "https://localhost:8080/"
        },
        "id": "9tQ4co8ZNXe1",
        "outputId": "c5ce12d5-039c-487f-8412-3253d39c67d3"
      },
      "execution_count": 3,
      "outputs": [
        {
          "output_type": "stream",
          "name": "stdout",
          "text": [
            "First 5 rows of the DataFrame:\n",
            "    longitude  latitude  housing_median_age  total_rooms  total_bedrooms  \\\n",
            "0    -122.05     37.37                27.0       3885.0           661.0   \n",
            "1    -118.30     34.26                43.0       1510.0           310.0   \n",
            "2    -117.81     33.78                27.0       3589.0           507.0   \n",
            "3    -118.36     33.82                28.0         67.0            15.0   \n",
            "4    -119.67     36.33                19.0       1241.0           244.0   \n",
            "\n",
            "   population  households  median_income  median_house_value  \n",
            "0      1537.0       606.0         6.6085            344700.0  \n",
            "1       809.0       277.0         3.5990            176500.0  \n",
            "2      1484.0       495.0         5.7934            270500.0  \n",
            "3        49.0        11.0         6.1359            330000.0  \n",
            "4       850.0       237.0         2.9375             81700.0  \n"
          ]
        }
      ]
    },
    {
      "cell_type": "markdown",
      "source": [
        "13. Create a 3D scatter plot using Plotly."
      ],
      "metadata": {
        "id": "wUwyZesHMmGi"
      }
    },
    {
      "cell_type": "code",
      "source": [
        "import plotly.express as px\n",
        "import numpy as np\n",
        "\n",
        "# Sample\n",
        "np.random.seed(42)\n",
        "x = np.random.rand(100)\n",
        "y = np.random.rand(100)\n",
        "z = np.random.rand(100)\n",
        "colors = np.random.rand(100)\n",
        "sizes = 45 * np.random.rand(100)\n",
        "\n",
        "fig = px.scatter_3d(x=x, y=y, z=z, color=colors, size=sizes,\n",
        "                    labels={'x': 'X-axis', 'y': 'Y-axis', 'z': 'Z-axis'},\n",
        "                    title='3D Scatter Plot Example')\n",
        "\n",
        "fig.show()"
      ],
      "metadata": {
        "colab": {
          "base_uri": "https://localhost:8080/",
          "height": 542
        },
        "id": "HN1S5gzQMPma",
        "outputId": "d228491e-d254-429c-a4f2-5ab78b795952"
      },
      "execution_count": 75,
      "outputs": [
        {
          "output_type": "display_data",
          "data": {
            "text/html": [
              "<html>\n",
              "<head><meta charset=\"utf-8\" /></head>\n",
              "<body>\n",
              "    <div>            <script src=\"https://cdnjs.cloudflare.com/ajax/libs/mathjax/2.7.5/MathJax.js?config=TeX-AMS-MML_SVG\"></script><script type=\"text/javascript\">if (window.MathJax && window.MathJax.Hub && window.MathJax.Hub.Config) {window.MathJax.Hub.Config({SVG: {font: \"STIX-Web\"}});}</script>                <script type=\"text/javascript\">window.PlotlyConfig = {MathJaxConfig: 'local'};</script>\n",
              "        <script charset=\"utf-8\" src=\"https://cdn.plot.ly/plotly-2.35.2.min.js\"></script>                <div id=\"468b20c8-188e-4f9f-8447-388c11c6c754\" class=\"plotly-graph-div\" style=\"height:525px; width:100%;\"></div>            <script type=\"text/javascript\">                                    window.PLOTLYENV=window.PLOTLYENV || {};                                    if (document.getElementById(\"468b20c8-188e-4f9f-8447-388c11c6c754\")) {                    Plotly.newPlot(                        \"468b20c8-188e-4f9f-8447-388c11c6c754\",                        [{\"hovertemplate\":\"X-axis=%{x}\\u003cbr\\u003eY-axis=%{y}\\u003cbr\\u003eZ-axis=%{z}\\u003cbr\\u003esize=%{marker.size}\\u003cbr\\u003ecolor=%{marker.color}\\u003cextra\\u003e\\u003c\\u002fextra\\u003e\",\"legendgroup\":\"\",\"marker\":{\"color\":[0.0516817211686077,0.531354631568148,0.5406351216101065,0.6374299014982066,0.7260913337226615,0.9758520794625346,0.5163003483011953,0.32295647294124596,0.7951861947687037,0.2708322512620742,0.4389714207056361,0.07845638134226596,0.02535074341545751,0.9626484146779251,0.8359801205122058,0.695974206093698,0.4089529444142699,0.17329432007084578,0.15643704267108605,0.25024289816459533,0.5492266647061205,0.7145959227000623,0.6601973767177313,0.27993389694594284,0.9548652806631941,0.7378969166957685,0.5543540525114007,0.6117207462343522,0.4196000624277899,0.24773098950115746,0.3559726786512616,0.7578461104643691,0.014393488629755868,0.11607264050691624,0.04600264202175275,0.040728802318970136,0.8554605840110072,0.7036578593800237,0.4741738290873252,0.09783416065100148,0.49161587511683236,0.4734717707805657,0.17320186991001518,0.43385164923797304,0.39850473439737344,0.6158500980522165,0.6350936508676438,0.04530400977204452,0.3746126146264712,0.6258599157142364,0.5031362585800877,0.8564898411883223,0.658693631618945,0.1629344270814297,0.07056874740042984,0.6424192782063156,0.026511310541621813,0.5857755812734633,0.9402302414249576,0.575474177875879,0.3881699262065219,0.6432882184423532,0.45825289049151663,0.5456167893159349,0.9414648087765252,0.38610263780077425,0.9611905638239142,0.9053506419560637,0.19579113478929644,0.06936130087516545,0.10077800137742665,0.018221825651549728,0.0944429607559284,0.6830067734163568,0.07118864846022899,0.3189756302937613,0.8448753109694546,0.023271935735825866,0.8144684825889358,0.28185477477339993,0.11816482762165625,0.6967371653641506,0.628942846779884,0.877472013527053,0.7350710438038858,0.8034809303848486,0.2820345725713065,0.17743954377972282,0.7506147516408583,0.806834739267264,0.9905051420006733,0.4126176769114265,0.37201808579278317,0.7764129607419968,0.34080354025301784,0.9307573256035647,0.8584127518430118,0.42899402737501835,0.7508710677914974,0.7545428740846823],\"coloraxis\":\"coloraxis\",\"size\":[4.640574097616968,40.6148808005805,22.736356760153573,37.190585974848375,14.402232046377529,40.29854528232902,17.51407554303734,0.4876943166134262,40.74218893886687,4.10790045537601,14.36911369156867,42.75278851728622,42.77732161219002,25.804704965547874,28.432674547640968,20.18004848902439,13.194484726412904,14.789904541646218,30.263330523466728,33.8568538246956,35.621056967663186,35.53281642575492,4.104274637191066,22.248913711616165,2.590144200748993,24.7287997045681,19.868872561801965,39.94668822412349,15.791175564843542,5.268015739242264,6.4346256923776135,34.26797842728625,27.81981284923175,4.550520425525561,3.7848062751748843,31.5436109156604,3.274335286388709,36.98370266806603,31.78090022204233,3.6606951288854894,3.8176971338336365,44.3987810325529,16.842185809025416,16.678896618010093,36.575980526587614,42.62618598227364,44.37004787202919,33.902018336652375,16.93168134889121,3.7575322514400944,34.97161121673466,25.128191238111228,19.08999041611393,40.78594732926312,5.003886703776811,22.168129693088662,0.5109140145338581,21.08972888973568,2.5336474056826805,5.346806232063236,5.2886811049697195,29.21446359522286,33.57201956694405,26.251594429372183,43.29776468135439,16.86917607856668,12.857043882683733,39.086960768525714,10.061812733375369,43.345014274827506,0.5469513610417354,43.64454720184376,1.942196037775925,40.1014401164132,23.746549908883495,44.68341582536851,3.3208454130929486,24.923442798059437,43.61861410285945,23.539402987656697,28.322938716086814,31.30869100430777,20.454347914549796,28.240113603782856,26.29414403653951,40.552110472094505,2.0450871153656043,12.643343531650364,42.76851678344514,40.06187027509124,20.504553875357082,27.905966901069153,12.482153234150971,8.465452187569259,20.8664282222992,15.900850261172376,26.264525033289242,3.4980586634243176,43.847766344977494,44.37948350158213],\"sizemode\":\"area\",\"sizeref\":0.11170853956342128,\"symbol\":\"circle\"},\"mode\":\"markers\",\"name\":\"\",\"scene\":\"scene\",\"showlegend\":false,\"x\":[0.3745401188473625,0.9507143064099162,0.7319939418114051,0.5986584841970366,0.15601864044243652,0.15599452033620265,0.05808361216819946,0.8661761457749352,0.6011150117432088,0.7080725777960455,0.020584494295802447,0.9699098521619943,0.8324426408004217,0.21233911067827616,0.18182496720710062,0.18340450985343382,0.3042422429595377,0.5247564316322378,0.43194501864211576,0.2912291401980419,0.6118528947223795,0.13949386065204183,0.29214464853521815,0.3663618432936917,0.45606998421703593,0.7851759613930136,0.19967378215835974,0.5142344384136116,0.5924145688620425,0.046450412719997725,0.6075448519014384,0.17052412368729153,0.06505159298527952,0.9488855372533332,0.9656320330745594,0.8083973481164611,0.3046137691733707,0.09767211400638387,0.6842330265121569,0.4401524937396013,0.12203823484477883,0.4951769101112702,0.034388521115218396,0.9093204020787821,0.2587799816000169,0.662522284353982,0.31171107608941095,0.5200680211778108,0.5467102793432796,0.18485445552552704,0.9695846277645586,0.7751328233611146,0.9394989415641891,0.8948273504276488,0.5978999788110851,0.9218742350231168,0.0884925020519195,0.1959828624191452,0.045227288910538066,0.32533033076326434,0.388677289689482,0.2713490317738959,0.8287375091519293,0.3567533266935893,0.28093450968738076,0.5426960831582485,0.14092422497476265,0.8021969807540397,0.07455064367977082,0.9868869366005173,0.7722447692966574,0.1987156815341724,0.005522117123602399,0.8154614284548342,0.7068573438476171,0.7290071680409873,0.7712703466859457,0.07404465173409036,0.3584657285442726,0.11586905952512971,0.8631034258755935,0.6232981268275579,0.3308980248526492,0.06355835028602363,0.3109823217156622,0.32518332202674705,0.7296061783380641,0.6375574713552131,0.8872127425763265,0.4722149251619493,0.1195942459383017,0.713244787222995,0.7607850486168974,0.5612771975694962,0.770967179954561,0.49379559636439074,0.5227328293819941,0.42754101835854963,0.02541912674409519,0.10789142699330445],\"y\":[0.03142918568673425,0.6364104112637804,0.3143559810763267,0.5085706911647028,0.907566473926093,0.24929222914887494,0.41038292303562973,0.7555511385430487,0.22879816549162246,0.07697990982879299,0.289751452913768,0.16122128725400442,0.9296976523425731,0.808120379564417,0.6334037565104235,0.8714605901877177,0.8036720768991145,0.18657005888603584,0.8925589984899778,0.5393422419156507,0.8074401551640625,0.8960912999234932,0.3180034749718639,0.11005192452767676,0.22793516254194168,0.4271077886262563,0.8180147659224931,0.8607305832563434,0.006952130531190703,0.5107473025775657,0.417411003148779,0.22210781047073025,0.1198653673336828,0.33761517140362796,0.9429097039125192,0.32320293202075523,0.5187906217433661,0.7030189588951778,0.363629602379294,0.9717820827209607,0.9624472949421112,0.25178229582536416,0.49724850589238545,0.30087830981676966,0.2848404943774676,0.036886947354532795,0.6095643339798968,0.5026790232288615,0.05147875124998935,0.27864646423661144,0.9082658859666537,0.23956189066697242,0.1448948720912231,0.489452760277563,0.9856504541106007,0.2420552715115004,0.6721355474058786,0.7616196153287176,0.23763754399239967,0.7282163486118596,0.3677831327192532,0.6323058305935795,0.6335297107608947,0.5357746840747585,0.0902897700544083,0.835302495589238,0.32078006497173583,0.18651851039985423,0.040775141554763916,0.5908929431882418,0.6775643618422824,0.016587828927856152,0.512093058299281,0.22649577519793795,0.6451727904094499,0.17436642900499144,0.690937738102466,0.3867353463005374,0.9367299887367345,0.13752094414599325,0.3410663510502585,0.11347352124058907,0.9246936182785628,0.877339353380981,0.2579416277151556,0.659984046034179,0.8172222002012158,0.5552008115994623,0.5296505783560065,0.24185229090045168,0.09310276780589921,0.8972157579533268,0.9004180571633305,0.6331014572732679,0.3390297910487007,0.3492095746126609,0.7259556788702394,0.8971102599525771,0.8870864242651173,0.7798755458576239],\"z\":[0.6420316461542878,0.08413996499504883,0.16162871409461377,0.8985541885270792,0.6064290596595899,0.009197051616629648,0.1014715428660321,0.6635017691080558,0.005061583846218687,0.16080805141749865,0.5487337893665861,0.6918951976926933,0.6519612595026005,0.22426930946055978,0.7121792213475359,0.23724908749680007,0.3253996981592677,0.7464914051180241,0.6496328990472147,0.8492234104941779,0.6576128923003434,0.5683086033354716,0.09367476782809248,0.3677158030594335,0.26520236768172545,0.24398964337908358,0.9730105547524456,0.3930977246667604,0.8920465551771133,0.6311386259972629,0.7948113035416484,0.5026370931051921,0.5769038846263591,0.4925176938188639,0.1952429877980445,0.7224521152615053,0.2807723624408558,0.02431596643145384,0.6454722959071678,0.17711067940704894,0.9404585843529143,0.9539285770025874,0.9148643902204485,0.3701587002554444,0.015456616528867428,0.9283185625877254,0.42818414831731433,0.9666548190436696,0.9636199770892528,0.8530094554673601,0.2944488920695857,0.38509772860192526,0.8511366715168569,0.31692200515627766,0.1694927466860925,0.5568012624583502,0.936154774160781,0.696029796674973,0.570061170089365,0.09717649377076854,0.6150072266991697,0.9900538501042633,0.14008401523652403,0.5183296523637367,0.8773730719279554,0.7407686177542044,0.697015740995268,0.7024840839871093,0.35949115121975517,0.29359184426449336,0.8093611554785136,0.8101133946791808,0.8670723185801037,0.9132405525564713,0.5113423988609378,0.5015162946871996,0.7982951789667752,0.6499639307777652,0.7019668772577033,0.795792669436101,0.8900053418175663,0.3379951568515358,0.375582952639944,0.093981939840869,0.578280140996174,0.035942273796742086,0.46559801813246016,0.5426446347075766,0.2865412521282844,0.5908332605690108,0.03050024993904943,0.03734818874921442,0.8226005606596583,0.3601906414112629,0.12706051265188478,0.5222432600548044,0.7699935530986108,0.21582102749684318,0.6228904758190003,0.085347464993768],\"type\":\"scatter3d\"}],                        {\"template\":{\"data\":{\"histogram2dcontour\":[{\"type\":\"histogram2dcontour\",\"colorbar\":{\"outlinewidth\":0,\"ticks\":\"\"},\"colorscale\":[[0.0,\"#0d0887\"],[0.1111111111111111,\"#46039f\"],[0.2222222222222222,\"#7201a8\"],[0.3333333333333333,\"#9c179e\"],[0.4444444444444444,\"#bd3786\"],[0.5555555555555556,\"#d8576b\"],[0.6666666666666666,\"#ed7953\"],[0.7777777777777778,\"#fb9f3a\"],[0.8888888888888888,\"#fdca26\"],[1.0,\"#f0f921\"]]}],\"choropleth\":[{\"type\":\"choropleth\",\"colorbar\":{\"outlinewidth\":0,\"ticks\":\"\"}}],\"histogram2d\":[{\"type\":\"histogram2d\",\"colorbar\":{\"outlinewidth\":0,\"ticks\":\"\"},\"colorscale\":[[0.0,\"#0d0887\"],[0.1111111111111111,\"#46039f\"],[0.2222222222222222,\"#7201a8\"],[0.3333333333333333,\"#9c179e\"],[0.4444444444444444,\"#bd3786\"],[0.5555555555555556,\"#d8576b\"],[0.6666666666666666,\"#ed7953\"],[0.7777777777777778,\"#fb9f3a\"],[0.8888888888888888,\"#fdca26\"],[1.0,\"#f0f921\"]]}],\"heatmap\":[{\"type\":\"heatmap\",\"colorbar\":{\"outlinewidth\":0,\"ticks\":\"\"},\"colorscale\":[[0.0,\"#0d0887\"],[0.1111111111111111,\"#46039f\"],[0.2222222222222222,\"#7201a8\"],[0.3333333333333333,\"#9c179e\"],[0.4444444444444444,\"#bd3786\"],[0.5555555555555556,\"#d8576b\"],[0.6666666666666666,\"#ed7953\"],[0.7777777777777778,\"#fb9f3a\"],[0.8888888888888888,\"#fdca26\"],[1.0,\"#f0f921\"]]}],\"heatmapgl\":[{\"type\":\"heatmapgl\",\"colorbar\":{\"outlinewidth\":0,\"ticks\":\"\"},\"colorscale\":[[0.0,\"#0d0887\"],[0.1111111111111111,\"#46039f\"],[0.2222222222222222,\"#7201a8\"],[0.3333333333333333,\"#9c179e\"],[0.4444444444444444,\"#bd3786\"],[0.5555555555555556,\"#d8576b\"],[0.6666666666666666,\"#ed7953\"],[0.7777777777777778,\"#fb9f3a\"],[0.8888888888888888,\"#fdca26\"],[1.0,\"#f0f921\"]]}],\"contourcarpet\":[{\"type\":\"contourcarpet\",\"colorbar\":{\"outlinewidth\":0,\"ticks\":\"\"}}],\"contour\":[{\"type\":\"contour\",\"colorbar\":{\"outlinewidth\":0,\"ticks\":\"\"},\"colorscale\":[[0.0,\"#0d0887\"],[0.1111111111111111,\"#46039f\"],[0.2222222222222222,\"#7201a8\"],[0.3333333333333333,\"#9c179e\"],[0.4444444444444444,\"#bd3786\"],[0.5555555555555556,\"#d8576b\"],[0.6666666666666666,\"#ed7953\"],[0.7777777777777778,\"#fb9f3a\"],[0.8888888888888888,\"#fdca26\"],[1.0,\"#f0f921\"]]}],\"surface\":[{\"type\":\"surface\",\"colorbar\":{\"outlinewidth\":0,\"ticks\":\"\"},\"colorscale\":[[0.0,\"#0d0887\"],[0.1111111111111111,\"#46039f\"],[0.2222222222222222,\"#7201a8\"],[0.3333333333333333,\"#9c179e\"],[0.4444444444444444,\"#bd3786\"],[0.5555555555555556,\"#d8576b\"],[0.6666666666666666,\"#ed7953\"],[0.7777777777777778,\"#fb9f3a\"],[0.8888888888888888,\"#fdca26\"],[1.0,\"#f0f921\"]]}],\"mesh3d\":[{\"type\":\"mesh3d\",\"colorbar\":{\"outlinewidth\":0,\"ticks\":\"\"}}],\"scatter\":[{\"fillpattern\":{\"fillmode\":\"overlay\",\"size\":10,\"solidity\":0.2},\"type\":\"scatter\"}],\"parcoords\":[{\"type\":\"parcoords\",\"line\":{\"colorbar\":{\"outlinewidth\":0,\"ticks\":\"\"}}}],\"scatterpolargl\":[{\"type\":\"scatterpolargl\",\"marker\":{\"colorbar\":{\"outlinewidth\":0,\"ticks\":\"\"}}}],\"bar\":[{\"error_x\":{\"color\":\"#2a3f5f\"},\"error_y\":{\"color\":\"#2a3f5f\"},\"marker\":{\"line\":{\"color\":\"#E5ECF6\",\"width\":0.5},\"pattern\":{\"fillmode\":\"overlay\",\"size\":10,\"solidity\":0.2}},\"type\":\"bar\"}],\"scattergeo\":[{\"type\":\"scattergeo\",\"marker\":{\"colorbar\":{\"outlinewidth\":0,\"ticks\":\"\"}}}],\"scatterpolar\":[{\"type\":\"scatterpolar\",\"marker\":{\"colorbar\":{\"outlinewidth\":0,\"ticks\":\"\"}}}],\"histogram\":[{\"marker\":{\"pattern\":{\"fillmode\":\"overlay\",\"size\":10,\"solidity\":0.2}},\"type\":\"histogram\"}],\"scattergl\":[{\"type\":\"scattergl\",\"marker\":{\"colorbar\":{\"outlinewidth\":0,\"ticks\":\"\"}}}],\"scatter3d\":[{\"type\":\"scatter3d\",\"line\":{\"colorbar\":{\"outlinewidth\":0,\"ticks\":\"\"}},\"marker\":{\"colorbar\":{\"outlinewidth\":0,\"ticks\":\"\"}}}],\"scattermapbox\":[{\"type\":\"scattermapbox\",\"marker\":{\"colorbar\":{\"outlinewidth\":0,\"ticks\":\"\"}}}],\"scatterternary\":[{\"type\":\"scatterternary\",\"marker\":{\"colorbar\":{\"outlinewidth\":0,\"ticks\":\"\"}}}],\"scattercarpet\":[{\"type\":\"scattercarpet\",\"marker\":{\"colorbar\":{\"outlinewidth\":0,\"ticks\":\"\"}}}],\"carpet\":[{\"aaxis\":{\"endlinecolor\":\"#2a3f5f\",\"gridcolor\":\"white\",\"linecolor\":\"white\",\"minorgridcolor\":\"white\",\"startlinecolor\":\"#2a3f5f\"},\"baxis\":{\"endlinecolor\":\"#2a3f5f\",\"gridcolor\":\"white\",\"linecolor\":\"white\",\"minorgridcolor\":\"white\",\"startlinecolor\":\"#2a3f5f\"},\"type\":\"carpet\"}],\"table\":[{\"cells\":{\"fill\":{\"color\":\"#EBF0F8\"},\"line\":{\"color\":\"white\"}},\"header\":{\"fill\":{\"color\":\"#C8D4E3\"},\"line\":{\"color\":\"white\"}},\"type\":\"table\"}],\"barpolar\":[{\"marker\":{\"line\":{\"color\":\"#E5ECF6\",\"width\":0.5},\"pattern\":{\"fillmode\":\"overlay\",\"size\":10,\"solidity\":0.2}},\"type\":\"barpolar\"}],\"pie\":[{\"automargin\":true,\"type\":\"pie\"}]},\"layout\":{\"autotypenumbers\":\"strict\",\"colorway\":[\"#636efa\",\"#EF553B\",\"#00cc96\",\"#ab63fa\",\"#FFA15A\",\"#19d3f3\",\"#FF6692\",\"#B6E880\",\"#FF97FF\",\"#FECB52\"],\"font\":{\"color\":\"#2a3f5f\"},\"hovermode\":\"closest\",\"hoverlabel\":{\"align\":\"left\"},\"paper_bgcolor\":\"white\",\"plot_bgcolor\":\"#E5ECF6\",\"polar\":{\"bgcolor\":\"#E5ECF6\",\"angularaxis\":{\"gridcolor\":\"white\",\"linecolor\":\"white\",\"ticks\":\"\"},\"radialaxis\":{\"gridcolor\":\"white\",\"linecolor\":\"white\",\"ticks\":\"\"}},\"ternary\":{\"bgcolor\":\"#E5ECF6\",\"aaxis\":{\"gridcolor\":\"white\",\"linecolor\":\"white\",\"ticks\":\"\"},\"baxis\":{\"gridcolor\":\"white\",\"linecolor\":\"white\",\"ticks\":\"\"},\"caxis\":{\"gridcolor\":\"white\",\"linecolor\":\"white\",\"ticks\":\"\"}},\"coloraxis\":{\"colorbar\":{\"outlinewidth\":0,\"ticks\":\"\"}},\"colorscale\":{\"sequential\":[[0.0,\"#0d0887\"],[0.1111111111111111,\"#46039f\"],[0.2222222222222222,\"#7201a8\"],[0.3333333333333333,\"#9c179e\"],[0.4444444444444444,\"#bd3786\"],[0.5555555555555556,\"#d8576b\"],[0.6666666666666666,\"#ed7953\"],[0.7777777777777778,\"#fb9f3a\"],[0.8888888888888888,\"#fdca26\"],[1.0,\"#f0f921\"]],\"sequentialminus\":[[0.0,\"#0d0887\"],[0.1111111111111111,\"#46039f\"],[0.2222222222222222,\"#7201a8\"],[0.3333333333333333,\"#9c179e\"],[0.4444444444444444,\"#bd3786\"],[0.5555555555555556,\"#d8576b\"],[0.6666666666666666,\"#ed7953\"],[0.7777777777777778,\"#fb9f3a\"],[0.8888888888888888,\"#fdca26\"],[1.0,\"#f0f921\"]],\"diverging\":[[0,\"#8e0152\"],[0.1,\"#c51b7d\"],[0.2,\"#de77ae\"],[0.3,\"#f1b6da\"],[0.4,\"#fde0ef\"],[0.5,\"#f7f7f7\"],[0.6,\"#e6f5d0\"],[0.7,\"#b8e186\"],[0.8,\"#7fbc41\"],[0.9,\"#4d9221\"],[1,\"#276419\"]]},\"xaxis\":{\"gridcolor\":\"white\",\"linecolor\":\"white\",\"ticks\":\"\",\"title\":{\"standoff\":15},\"zerolinecolor\":\"white\",\"automargin\":true,\"zerolinewidth\":2},\"yaxis\":{\"gridcolor\":\"white\",\"linecolor\":\"white\",\"ticks\":\"\",\"title\":{\"standoff\":15},\"zerolinecolor\":\"white\",\"automargin\":true,\"zerolinewidth\":2},\"scene\":{\"xaxis\":{\"backgroundcolor\":\"#E5ECF6\",\"gridcolor\":\"white\",\"linecolor\":\"white\",\"showbackground\":true,\"ticks\":\"\",\"zerolinecolor\":\"white\",\"gridwidth\":2},\"yaxis\":{\"backgroundcolor\":\"#E5ECF6\",\"gridcolor\":\"white\",\"linecolor\":\"white\",\"showbackground\":true,\"ticks\":\"\",\"zerolinecolor\":\"white\",\"gridwidth\":2},\"zaxis\":{\"backgroundcolor\":\"#E5ECF6\",\"gridcolor\":\"white\",\"linecolor\":\"white\",\"showbackground\":true,\"ticks\":\"\",\"zerolinecolor\":\"white\",\"gridwidth\":2}},\"shapedefaults\":{\"line\":{\"color\":\"#2a3f5f\"}},\"annotationdefaults\":{\"arrowcolor\":\"#2a3f5f\",\"arrowhead\":0,\"arrowwidth\":1},\"geo\":{\"bgcolor\":\"white\",\"landcolor\":\"#E5ECF6\",\"subunitcolor\":\"white\",\"showland\":true,\"showlakes\":true,\"lakecolor\":\"white\"},\"title\":{\"x\":0.05},\"mapbox\":{\"style\":\"light\"}}},\"scene\":{\"domain\":{\"x\":[0.0,1.0],\"y\":[0.0,1.0]},\"xaxis\":{\"title\":{\"text\":\"X-axis\"}},\"yaxis\":{\"title\":{\"text\":\"Y-axis\"}},\"zaxis\":{\"title\":{\"text\":\"Z-axis\"}}},\"coloraxis\":{\"colorbar\":{\"title\":{\"text\":\"color\"}},\"colorscale\":[[0.0,\"#0d0887\"],[0.1111111111111111,\"#46039f\"],[0.2222222222222222,\"#7201a8\"],[0.3333333333333333,\"#9c179e\"],[0.4444444444444444,\"#bd3786\"],[0.5555555555555556,\"#d8576b\"],[0.6666666666666666,\"#ed7953\"],[0.7777777777777778,\"#fb9f3a\"],[0.8888888888888888,\"#fdca26\"],[1.0,\"#f0f921\"]]},\"legend\":{\"tracegroupgap\":0,\"itemsizing\":\"constant\"},\"title\":{\"text\":\"3D Scatter Plot Example\"}},                        {\"responsive\": true}                    ).then(function(){\n",
              "                            \n",
              "var gd = document.getElementById('468b20c8-188e-4f9f-8447-388c11c6c754');\n",
              "var x = new MutationObserver(function (mutations, observer) {{\n",
              "        var display = window.getComputedStyle(gd).display;\n",
              "        if (!display || display === 'none') {{\n",
              "            console.log([gd, 'removed!']);\n",
              "            Plotly.purge(gd);\n",
              "            observer.disconnect();\n",
              "        }}\n",
              "}});\n",
              "\n",
              "// Listen for the removal of the full notebook cells\n",
              "var notebookContainer = gd.closest('#notebook-container');\n",
              "if (notebookContainer) {{\n",
              "    x.observe(notebookContainer, {childList: true});\n",
              "}}\n",
              "\n",
              "// Listen for the clearing of the current output cell\n",
              "var outputEl = gd.closest('.output');\n",
              "if (outputEl) {{\n",
              "    x.observe(outputEl, {childList: true});\n",
              "}}\n",
              "\n",
              "                        })                };                            </script>        </div>\n",
              "</body>\n",
              "</html>"
            ]
          },
          "metadata": {}
        }
      ]
    },
    {
      "cell_type": "code",
      "source": [],
      "metadata": {
        "id": "AZJbVl2HMtzF"
      },
      "execution_count": null,
      "outputs": []
    }
  ]
}